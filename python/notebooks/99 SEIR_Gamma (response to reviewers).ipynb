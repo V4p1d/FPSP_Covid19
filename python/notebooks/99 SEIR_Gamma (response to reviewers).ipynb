{
 "cells": [
  {
   "cell_type": "code",
   "execution_count": null,
   "metadata": {},
   "outputs": [],
   "source": [
    "from IPython.core.display import display, HTML\n",
    "display(HTML(\"<style>.container { width:100% !important; }</style>\"))\n",
    "import os\n",
    "os.chdir('..')"
   ]
  },
  {
   "cell_type": "code",
   "execution_count": null,
   "metadata": {},
   "outputs": [],
   "source": [
    "import numpy as np\n",
    "from matplotlib import pyplot as plt\n",
    "plt.rcParams['figure.figsize'] = (10.0, 8.0)\n",
    "plt.rcParams['font.size'] = 20\n",
    "\n",
    "from scipy.stats import expon, gamma\n",
    "\n",
    "import clds"
   ]
  },
  {
   "cell_type": "markdown",
   "metadata": {},
   "source": [
    "# SEIR model with Gamma distributed recovery"
   ]
  },
  {
   "cell_type": "code",
   "execution_count": null,
   "metadata": {},
   "outputs": [],
   "source": [
    "np.random.seed(seed=0)\n",
    "dt = 0.01\n",
    "# Sample gamma at dt substeps per day\n",
    "def make_gamma(a, b=1, dt=dt):\n",
    "    p_g = gamma(a=a, scale=b)\n",
    "    n_days = a*b*5 # limit support\n",
    "    t_range = np.linspace(0, n_days ,num=(n_days/dt)+1)\n",
    "    y_g = p_g.pdf(t_range)\n",
    "    return y_g/y_g.sum(), t_range\n",
    "    \n"
   ]
  },
  {
   "cell_type": "markdown",
   "metadata": {},
   "source": [
    "## Recovery distribution I -> R: ground-truth and Exponential fit"
   ]
  },
  {
   "cell_type": "code",
   "execution_count": null,
   "metadata": {},
   "outputs": [],
   "source": [
    "# Sample distributions at discrete timesteps for simulation\n",
    "# crop to a maximum of n_days between infection and recovery\n",
    "b_ir = 0.99\n",
    "a_ir = 2/b_ir # Gamma location parameter\n",
    "yi2r, t_range = make_gamma(a=a_ir, b=b_ir)\n",
    "\n",
    "plt.plot(t_range, yi2r, 'b-', alpha=0.6, label='gamma')\n",
    "plt.xlabel('days until recovery')\n",
    "plt.ylabel('density')\n",
    "plt.legend()\n",
    "plt.grid('on')\n",
    "plt.title('Recovery PDF');"
   ]
  },
  {
   "cell_type": "markdown",
   "metadata": {},
   "source": [
    "## Incubation time distribution E -> I: ground-truth and exponential fit"
   ]
  },
  {
   "cell_type": "code",
   "execution_count": null,
   "metadata": {},
   "outputs": [],
   "source": [
    "b_ei = 0.1 # Gamma scale parameter (lower -> shaper peak)\n",
    "a_ei = 12/b_ei # Gamma location parameter (higher -> higher delay)\n",
    "ye2i, t_range = make_gamma(a_ei, b=b_ei)\n",
    "\n",
    "plt.plot(t_range, ye2i, 'b-', alpha=0.6, label='gamma')\n",
    "plt.xlabel('incubation period')\n",
    "plt.ylabel('density')\n",
    "plt.legend()\n",
    "plt.grid('on')\n",
    "plt.title('Incubation PDF');"
   ]
  },
  {
   "cell_type": "markdown",
   "metadata": {},
   "source": [
    "## Simulation Setup"
   ]
  },
  {
   "cell_type": "code",
   "execution_count": null,
   "metadata": {
    "scrolled": false
   },
   "outputs": [],
   "source": [
    "# simulation\n",
    "n_days = 365*2\n",
    "dt=0.05 # step length in days\n",
    "\n",
    "# epidemic parameters\n",
    "N=1e7\n",
    "R0 = 2.78\n",
    "ei_b = 0.1\n",
    "ei_a = 12./ei_b\n",
    "ir_b = 0.99\n",
    "ir_a = 2./ir_b\n",
    "\n",
    "# switching\n",
    "q = 0.175 # lockdown effectiveness: beta_ = q * beta+\n",
    "steps_high = 2\n",
    "steps_low = 14-steps_high\n",
    "lockdown = 30 # number of days of unmitigated spread before prolonged lockdown\n",
    "switching = int(lockdown + 20) # first day of periodic switching\n",
    "\n",
    "# outer supervisory control\n",
    "alpha_x = 0.4 # hystheresis for increasing duty cycle\n",
    "alpha_y = 0. # hystheresis for decreasing duty cycle\n",
    "x_init = 0\n",
    "x_max = steps_high + steps_low\n",
    "period = x_max\n",
    "\n",
    "ye2i, t_range_e2i = make_gamma(a=ei_a, b=ei_b, dt=dt) # distribution of E->I delays\n",
    "yi2r, t_range_i2r = make_gamma(a=ir_a, b=ir_b, dt=dt) # distribution of I-> delays\n",
    "mean_ei_gamma = np.sum(t_range_e2i * ye2i)\n",
    "mean_ir_gamma = np.sum(t_range_i2r * yi2r)\n",
    "serial_interval = int(mean_ei_gamma + mean_ir_gamma)\n",
    "\n",
    "# build simulation: run open-loop and closed-loop simulations simultaneously\n",
    "# order='sequential' as opposed to concurrent updates the scratchpad in each step between subsequently added agents; in this case the agent order matters!\n",
    "env = clds.Composite(order='sequential') \n",
    "\n",
    "# periodic switching controlled by outer loop\n",
    "fpsp_cl = clds.agents.BatchFPSP(beta_high=R0, \n",
    "                        beta_low= R0*q,\n",
    "                        steps_high='x',\n",
    "                        steps_low='y',\n",
    "                        suppression_start=lockdown,\n",
    "                        switching_start=switching)\n",
    "env.add(fpsp_cl, out='fpsp_cl', pre= lambda x: {'x': x['outer'][:,0], 'y': x['outer'][:,1]})\n",
    "\n",
    "# open-loop periodic switching with fixed duty cycle\n",
    "fpsp_ol = clds.agents.BatchFPSP(beta_high=R0, \n",
    "                        beta_low= R0*q, \n",
    "                        steps_high=steps_high, \n",
    "                        steps_low=steps_low,\n",
    "                        suppression_start=lockdown,\n",
    "                        switching_start=switching)\n",
    "env.add(fpsp_ol, out='fpsp_ol')\n",
    "\n",
    "# dynamics under open-loop control\n",
    "model_ol =  clds.agents.SerialSEIR(ye2i, \n",
    "                    yi2r, \n",
    "                    N=N,\n",
    "                    i0=500/6, \n",
    "                    e0=0, \n",
    "                    R0='fpsp_ol', \n",
    "                    dt=dt)\n",
    "env.add(model_ol, out='model_ol')\n",
    "\n",
    "# dynamics under closed-loop control\n",
    "model_cl =  clds.agents.SerialSEIR(ye2i, \n",
    "                    yi2r, \n",
    "                    N=N,\n",
    "                    i0=500/6, \n",
    "                    e0=0, \n",
    "                    R0='fpsp_cl', \n",
    "                    dt=dt)\n",
    "env.add(model_cl, out='model_cl')\n",
    "\n",
    "\n",
    "# outer loop input: I\n",
    "u = clds.Lambda(reset_fn= lambda: 0, step_fn= lambda x: x['model_cl'][2]) # batch, channel\n",
    "env.add(u, out='o')\n",
    "\n",
    "# outer supervisory control\n",
    "outer_loop = clds.agents.BatchOuterLoopFPSP(start=switching,\n",
    "                            o='o', \n",
    "                            period=period, \n",
    "                            x_init=x_init,\n",
    "                            x_max=x_max, \n",
    "                            alpha_x=alpha_x, \n",
    "                            alpha_y=alpha_y)\n",
    "env.add(outer_loop, out='outer')"
   ]
  },
  {
   "cell_type": "markdown",
   "metadata": {},
   "source": [
    "## Simulation Execution"
   ]
  },
  {
   "cell_type": "code",
   "execution_count": null,
   "metadata": {},
   "outputs": [],
   "source": [
    "# execute simualtion\n",
    "o = [env.reset()] + [env.step()[0] for _ in range(n_days)]\n",
    "X_ol = np.array([x['model_ol'] for x in o])\n",
    "X_cl = np.array([x['model_cl'] for x in o])"
   ]
  },
  {
   "cell_type": "markdown",
   "metadata": {},
   "source": [
    "## Plot Transition Distribution"
   ]
  },
  {
   "cell_type": "code",
   "execution_count": null,
   "metadata": {},
   "outputs": [],
   "source": [
    "def sequential_prob(a, b):\n",
    "    q = np.zeros(a.shape[0] + b.shape[0])\n",
    "    ab = np.meshgrid(a, b)\n",
    "    ab = ab[0] * ab[1]\n",
    "    for y in range(ab.shape[0]):\n",
    "        for x in range(ab.shape[1]):\n",
    "            q[x+y] += ab[y, x]\n",
    "    return q\n",
    "\n",
    "fig, ax = plt.subplots(figsize=(10, 8))\n",
    "ax.plot(t_range_e2i, ye2i, label='incubation (gamma, mean={:.0f})'.format(mean_ei_gamma))\n",
    "ax.plot(t_range_i2r, yi2r, label='recovery (gamma, mean={:.0f})'.format(mean_ir_gamma))\n",
    "e2r = sequential_prob(ye2i, yi2r)\n",
    "ax.plot(np.arange(e2r.shape[0])*dt, e2r, '--', alpha=0.75, label='infection to recovery'.format(mean_ir_gamma))\n",
    "ax.set_xlim([0, 28])\n",
    "ax.set_xlabel('days')\n",
    "ax.set_ylabel('density')\n",
    "ax.legend()\n",
    "ax.grid('on')\n",
    "ax.set_title('Incubation and recovery PDFs');\n",
    "plt.savefig(dpi=300, fname=f\"results/agent_seir_E_{mean_ei_gamma:.0f}_{ei_b:.2f}_I_{mean_ir_gamma:.0f}_{ir_b:.2f}_pdf.png\")\n",
    "plt.savefig(dpi=300, fname=f\"results/agent_seir_E_{mean_ei_gamma:.0f}_{ei_b:.2f}_I_{mean_ir_gamma:.0f}_{ir_b:.2f}_pdf.eps\")"
   ]
  },
  {
   "cell_type": "markdown",
   "metadata": {},
   "source": [
    "## Plot Open Loop Simulation"
   ]
  },
  {
   "cell_type": "code",
   "execution_count": null,
   "metadata": {},
   "outputs": [],
   "source": [
    "fig, ax = plt.subplots(figsize=(10, 8))\n",
    "ax.plot(X_ol[:-1,1]/N*100, label='E')\n",
    "ax.plot(X_ol[:-1,2]/N*100, label='I')\n",
    "ylim = ax.get_ylim()\n",
    "ax.plot([lockdown, lockdown], [ylim[0], ylim[1]], '-b', alpha=0.5, label=f'lockdown T={int(lockdown)}')\n",
    "ax.plot([switching, switching], [ylim[0], ylim[1]], '-r', alpha=0.5, label=f'switching T={int(switching)}')\n",
    "#ax.legend()\n",
    "ax.grid('on')\n",
    "ax.set_xlabel('days')\n",
    "ax.set_ylabel('% of population')\n",
    "ax.set_title(f\"Open-loop FPSP-({steps_high},{steps_low})\")\n",
    "plt.savefig(dpi=300, fname=f\"results/agent_seir_E_{mean_ei_gamma:.0f}_{ei_b:.2f}_I_{mean_ir_gamma:.0f}_{ir_b:.2f}_T_{period}_q_{q:.3f}_open_loop.png\")\n",
    "plt.savefig(dpi=300, fname=f\"results/agent_seir_E_{mean_ei_gamma:.0f}_{ei_b:.2f}_I_{mean_ir_gamma:.0f}_{ir_b:.2f}_T_{period}_q_{q:.3f}_open_loop.eps\")"
   ]
  },
  {
   "cell_type": "markdown",
   "metadata": {},
   "source": [
    "## Plot Outer Supervisory Loop Simulation"
   ]
  },
  {
   "cell_type": "code",
   "execution_count": null,
   "metadata": {},
   "outputs": [],
   "source": [
    "fig, ax = plt.subplots(figsize=(10, 8))\n",
    "ax.plot(X_cl[:-1,1]/N*100, label='E')\n",
    "ax.plot(X_cl[:-1,2]/N*100, label='I')\n",
    "ylim = ax.get_ylim()\n",
    "ax.plot([lockdown, lockdown], [ylim[0], ylim[1]], '-b', alpha=0.5, label=f'lockdown T={int(lockdown)}')\n",
    "ax.plot([switching, switching], [ylim[0], ylim[1]], '-r', alpha=0.5, label=f'switching T={int(switching)}')\n",
    "ax.legend()\n",
    "ax.grid('on')\n",
    "ax.set_xlabel('days')\n",
    "ax.set_ylabel('% of population')\n",
    "ax.set_title(f\"Slow outer supervisory control\")\n",
    "#plt.tight_layout()\n",
    "plt.savefig(dpi=300, fname=f\"results/agent_seir_E_{mean_ei_gamma:.0f}_{ei_b:.2f}_I_{mean_ir_gamma:.0f}_{ir_b:.2f}_T_{period}_q_{q:.3f}_closed_loop.png\")\n",
    "plt.savefig(dpi=300, fname=f\"results/agent_seir_E_{mean_ei_gamma:.0f}_{ei_b:.2f}_I_{mean_ir_gamma:.0f}_{ir_b:.2f}_T_{period}_q_{q:.3f}_closed_loop.eps\")"
   ]
  },
  {
   "cell_type": "markdown",
   "metadata": {},
   "source": [
    "## Plot Combined Figure"
   ]
  },
  {
   "cell_type": "code",
   "execution_count": null,
   "metadata": {},
   "outputs": [],
   "source": [
    "fig, axes = plt.subplots(1,3, figsize=(30, 8))\n",
    "labels = ['S', 'E', 'I', 'R']\n",
    "\n",
    "ax = axes[0]\n",
    "ax.plot(t_range_e2i, ye2i, label='incubation (gamma, mean={:.0f})'.format(mean_ei_gamma))\n",
    "ax.plot(t_range_i2r, yi2r, label='recovery (gamma, mean={:.0f})'.format(mean_ir_gamma))\n",
    "e2r = sequential_prob(ye2i, yi2r)\n",
    "ax.plot(np.arange(e2r.shape[0])*dt, e2r, '--', alpha=0.75, label='infection to recovery'.format(mean_ir_gamma))\n",
    "ax.set_xlim([0, 28])\n",
    "ax.set_xlabel('days')\n",
    "ax.set_ylabel('density')\n",
    "ax.legend()\n",
    "ax.grid('on')\n",
    "ax.set_title('Incubation and recovery PDFs');\n",
    "\n",
    "ax = axes[1]\n",
    "ax.plot(X_ol[:-1,1]/N*100, label='E')\n",
    "ax.plot(X_ol[:-1,2]/N*100, label='I')\n",
    "ylim = ax.get_ylim()\n",
    "ax.plot([lockdown, lockdown], [ylim[0], ylim[1]], '-b', alpha=0.5, label=f'lockdown T={int(lockdown)}')\n",
    "ax.plot([switching, switching], [ylim[0], ylim[1]], '-r', alpha=0.5, label=f'switching T={int(switching)}')\n",
    "#ax.legend()\n",
    "ax.grid('on')\n",
    "ax.set_xlabel('days')\n",
    "ax.set_ylabel('% of population')\n",
    "ax.set_title(f\"Open-loop FPSP-({steps_high},{steps_low})\")\n",
    "\n",
    "ax = axes[2]\n",
    "ax.plot(X_cl[:-1,1]/N*100, label='E')\n",
    "ax.plot(X_cl[:-1,2]/N*100, label='I')\n",
    "ylim = ax.get_ylim()\n",
    "ax.plot([lockdown, lockdown], [ylim[0], ylim[1]], '-b', alpha=0.5, label=f'lockdown T={int(lockdown)}')\n",
    "ax.plot([switching, switching], [ylim[0], ylim[1]], '-r', alpha=0.5, label=f'switching T={int(switching)}')\n",
    "ax.legend()\n",
    "ax.grid('on')\n",
    "ax.set_xlabel('days')\n",
    "ax.set_ylabel('% of population')\n",
    "ax.set_title(f\"Slow outer supervisory control\")\n",
    "#plt.tight_layout()\n",
    "plt.savefig(dpi=300, fname=f\"results/agent_seir_E_{mean_ei_gamma:.0f}_{ei_b:.2f}_I_{mean_ir_gamma:.0f}_{ir_b:.2f}_T_{period}_q_{q:.3f}_combined.png\")\n",
    "plt.savefig(dpi=300, fname=f\"results/agent_seir_E_{mean_ei_gamma:.0f}_{ei_b:.2f}_I_{mean_ir_gamma:.0f}_{ir_b:.2f}_T_{period}_q_{q:.3f}_combined.eps\")"
   ]
  },
  {
   "cell_type": "code",
   "execution_count": null,
   "metadata": {},
   "outputs": [],
   "source": []
  }
 ],
 "metadata": {
  "kernelspec": {
   "display_name": "Python [conda env:clds_wp1_ode]",
   "language": "python",
   "name": "conda-env-clds_wp1_ode-py"
  },
  "language_info": {
   "codemirror_mode": {
    "name": "ipython",
    "version": 3
   },
   "file_extension": ".py",
   "mimetype": "text/x-python",
   "name": "python",
   "nbconvert_exporter": "python",
   "pygments_lexer": "ipython3",
   "version": "3.7.5"
  },
  "toc": {
   "base_numbering": 1,
   "nav_menu": {},
   "number_sections": true,
   "sideBar": true,
   "skip_h1_title": false,
   "title_cell": "Table of Contents",
   "title_sidebar": "Contents",
   "toc_cell": false,
   "toc_position": {},
   "toc_section_display": true,
   "toc_window_display": false
  }
 },
 "nbformat": 4,
 "nbformat_minor": 2
}
